{
 "cells": [
  {
   "cell_type": "code",
   "execution_count": 16,
   "id": "91574921",
   "metadata": {},
   "outputs": [],
   "source": [
    "import cv2"
   ]
  },
  {
   "cell_type": "code",
   "execution_count": 17,
   "id": "92f6871d",
   "metadata": {},
   "outputs": [],
   "source": [
    "import boto3"
   ]
  },
  {
   "cell_type": "code",
   "execution_count": 18,
   "id": "8bc78b36",
   "metadata": {},
   "outputs": [],
   "source": [
    "import time "
   ]
  },
  {
   "cell_type": "code",
   "execution_count": 19,
   "id": "1834a7e8",
   "metadata": {},
   "outputs": [],
   "source": [
    "ec2 = boto3.resource('ec2')"
   ]
  },
  {
   "cell_type": "code",
   "execution_count": 20,
   "id": "1c23b7eb",
   "metadata": {},
   "outputs": [],
   "source": [
    "elb = boto3.client('elbv2')"
   ]
  },
  {
   "cell_type": "code",
   "execution_count": 21,
   "id": "8b89637c",
   "metadata": {},
   "outputs": [],
   "source": [
    "allOS = []"
   ]
  },
  {
   "cell_type": "code",
   "execution_count": 22,
   "id": "5738e439",
   "metadata": {},
   "outputs": [],
   "source": [
    "def LaunchOS():\n",
    "    instances = ec2.create_instances(\n",
    "        ImageId=\"ami-0e670eb768a5fc3d4\",\n",
    "        MinCount=1,\n",
    "        MaxCount=1,\n",
    "        InstanceType=\"t2.micro\",\n",
    "        \n",
    "    )\n",
    "\n",
    "    OSid = instances[0].id\n",
    "    allOS.append(OSid)\n",
    "    \n",
    "    time.sleep(30)\n",
    "    \n",
    "    # print(allOS)\n",
    "    print(\"Total OS : \" , len(allOS))"
   ]
  },
  {
   "cell_type": "code",
   "execution_count": null,
   "id": "40483593",
   "metadata": {},
   "outputs": [],
   "source": [
    "LaunchOS()"
   ]
  },
  {
   "cell_type": "code",
   "execution_count": null,
   "id": "15040113",
   "metadata": {},
   "outputs": [],
   "source": [
    "def TerminateOS():\n",
    "    if allOS:\n",
    "        myos = allOS.pop()\n",
    "        response = ec2.instances.filter(InstanceIds=[myos]).terminate()\n",
    "        \n",
    "\n",
    "        \n",
    "        print(\"Remaining OS : \" , len(allOS))\n",
    "        return response\n",
    "    else:\n",
    "        print(\"no more OS is Running\")"
   ]
  },
  {
   "cell_type": "code",
   "execution_count": null,
   "id": "6b8485f0",
   "metadata": {},
   "outputs": [],
   "source": [
    "TerminateOS()"
   ]
  },
  {
   "cell_type": "code",
   "execution_count": null,
   "id": "47c0f8f0",
   "metadata": {},
   "outputs": [],
   "source": [
    "from cvzone.HandTrackingModule import HandDetector"
   ]
  },
  {
   "cell_type": "code",
   "execution_count": null,
   "id": "33ab1e7e",
   "metadata": {},
   "outputs": [],
   "source": [
    "detector = HandDetector(maxHands=1,detectionCon=0.8)"
   ]
  },
  {
   "cell_type": "code",
   "execution_count": null,
   "id": "e250c1fa",
   "metadata": {},
   "outputs": [],
   "source": [
    "cap  = cv2.VideoCapture(0)"
   ]
  },
  {
   "cell_type": "code",
   "execution_count": null,
   "id": "356bc1ef",
   "metadata": {
    "scrolled": true
   },
   "outputs": [],
   "source": [
    "while True:\n",
    "    ret, img = cap.read()\n",
    "    cv2.imshow(\"Img\" , img)\n",
    "    if cv2.waitKey(100) == 13:\n",
    "        break\n",
    "\n",
    "    hand = detector.findHands(img , draw=False)\n",
    "    if hand:\n",
    "        lmlist = hand[0]\n",
    "        if lmlist:\n",
    "            fingerup = detector.fingersUp(lmlist)\n",
    "            print(fingerup)\n",
    "            if fingerup == [0, 1, 0, 0, 0]:\n",
    "                print(\"first finger ..\")\n",
    "                TerminateOS()\n",
    "            \n",
    "            elif fingerup == [0, 1, 1, 0, 0]:\n",
    "                print(\"1nd and 2rd finger ..\")\n",
    "                LaunchOS()\n",
    "\n",
    "            \n",
    "cv2.destroyAllWindows()"
   ]
  },
  {
   "cell_type": "code",
   "execution_count": null,
   "id": "172b909c",
   "metadata": {},
   "outputs": [],
   "source": [
    "cap.release()   "
   ]
  },
  {
   "cell_type": "code",
   "execution_count": null,
   "id": "35b60d18",
   "metadata": {},
   "outputs": [],
   "source": []
  },
  {
   "cell_type": "code",
   "execution_count": null,
   "id": "39aea9ff",
   "metadata": {},
   "outputs": [],
   "source": []
  },
  {
   "cell_type": "code",
   "execution_count": null,
   "id": "81607f04",
   "metadata": {},
   "outputs": [],
   "source": []
  }
 ],
 "metadata": {
  "kernelspec": {
   "display_name": "Python 3 (ipykernel)",
   "language": "python",
   "name": "python3"
  },
  "language_info": {
   "codemirror_mode": {
    "name": "ipython",
    "version": 3
   },
   "file_extension": ".py",
   "mimetype": "text/x-python",
   "name": "python",
   "nbconvert_exporter": "python",
   "pygments_lexer": "ipython3",
   "version": "3.11.5"
  }
 },
 "nbformat": 4,
 "nbformat_minor": 5
}
